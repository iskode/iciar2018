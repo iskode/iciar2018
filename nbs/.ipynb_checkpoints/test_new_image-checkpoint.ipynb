{
 "cells": [
  {
   "cell_type": "code",
   "execution_count": 1,
   "metadata": {
    "collapsed": true
   },
   "outputs": [],
   "source": [
    "%reload_ext autoreload\n",
    "%autoreload 2\n",
    "%matplotlib inline"
   ]
  },
  {
   "cell_type": "code",
   "execution_count": 2,
   "metadata": {
    "collapsed": true
   },
   "outputs": [],
   "source": [
    "from fastai.imports import *\n",
    "from fastai.dataset import *\n",
    "from fastai.dataloader import *\n",
    "from fastai.conv_learner import *\n",
    "from fastai.plots import *"
   ]
  },
  {
   "cell_type": "code",
   "execution_count": 7,
   "metadata": {
    "collapsed": true
   },
   "outputs": [],
   "source": [
    "PATH = '/home/ubuntu/workspace/data/iciar18/full_dataset/'"
   ]
  },
  {
   "cell_type": "code",
   "execution_count": 3,
   "metadata": {
    "collapsed": true
   },
   "outputs": [],
   "source": [
    "top_layers = [AdaptiveConcatPool2d(), Flatten(), \n",
    "            nn.BatchNorm1d(4096, eps=1e-05, momentum=0.1, affine=True), \n",
    "            nn.Dropout(p = 0.6), nn.Linear(4096,512), nn.ReLU(), \n",
    "            nn.BatchNorm1d(512, eps=1e-05, momentum=0.1, affine=True), \n",
    "            nn.Dropout(p = 0.6), \n",
    "            nn.Linear(512,4), \n",
    "            nn.LogSoftmax()]"
   ]
  },
  {
   "cell_type": "code",
   "execution_count": 4,
   "metadata": {
    "collapsed": true
   },
   "outputs": [],
   "source": [
    "model = nn.Sequential(*list(resnet50().children())[:-2])\n",
    "for k, l in enumerate(top_layers):\n",
    "    model.add_module(str(7+k+1), l)"
   ]
  },
  {
   "cell_type": "code",
   "execution_count": 8,
   "metadata": {},
   "outputs": [],
   "source": [
    "loaded_model = load_model(model, f'{PATH}models/multi_exp2_ps.6_95.h5')"
   ]
  },
  {
   "cell_type": "code",
   "execution_count": 16,
   "metadata": {},
   "outputs": [],
   "source": [
    "arch=resnet50\n",
    "sz=299\n",
    "fn = f'{PATH}Photos/Invasive/iv011.tif'\n",
    "trn_tfms, val_tfms = tfms_from_model(arch, sz, aug_tfms=transforms_top_down, max_zoom=1.05) # get transformations\n",
    "im = open_image(fn)\n",
    "im_val = val_tfms(im)"
   ]
  },
  {
   "cell_type": "code",
   "execution_count": 17,
   "metadata": {},
   "outputs": [
    {
     "name": "stdout",
     "output_type": "stream",
     "text": [
      "torch.Size([3, 299, 299])\n"
     ]
    }
   ],
   "source": [
    "model.type(torch.cuda.FloatTensor)\n",
    "model.eval()\n",
    "x = torch.from_numpy(im_val).type(torch.cuda.FloatTensor)\n",
    "# x = x.permute(0,3,1,2)\n",
    "print(x.size())"
   ]
  },
  {
   "cell_type": "code",
   "execution_count": 18,
   "metadata": {},
   "outputs": [
    {
     "data": {
      "text/plain": [
       "Variable containing:\n",
       "-7.1667 -4.4559 -0.0126 -8.7580\n",
       "[torch.cuda.FloatTensor of size 1x4 (GPU 0)]"
      ]
     },
     "execution_count": 18,
     "metadata": {},
     "output_type": "execute_result"
    }
   ],
   "source": [
    "log_pred = model(Variable(x).unsqueeze(0))\n",
    "log_pred"
   ]
  },
  {
   "cell_type": "code",
   "execution_count": 21,
   "metadata": {},
   "outputs": [
    {
     "data": {
      "text/plain": [
       "'class prediction: 3 => Invasive'"
      ]
     },
     "execution_count": 21,
     "metadata": {},
     "output_type": "execute_result"
    }
   ],
   "source": [
    "pred = np.argmax(log_pred.data.cpu().numpy())\n",
    "devt_classes = ['Benign', 'InSitu', 'Invasive', 'Normal']\n",
    "submit_classes = {'Normal':0, 'Benign':1, 'InSitu':2, 'Invasive':3}\n",
    "f'class prediction: {submit_classes[devt_classes[pred]]} => {devt_classes[pred]}'"
   ]
  }
 ],
 "metadata": {
  "kernelspec": {
   "display_name": "Python 3",
   "language": "python",
   "name": "python3"
  },
  "language_info": {
   "codemirror_mode": {
    "name": "ipython",
    "version": 3
   },
   "file_extension": ".py",
   "mimetype": "text/x-python",
   "name": "python",
   "nbconvert_exporter": "python",
   "pygments_lexer": "ipython3",
   "version": "3.6.3"
  }
 },
 "nbformat": 4,
 "nbformat_minor": 2
}
