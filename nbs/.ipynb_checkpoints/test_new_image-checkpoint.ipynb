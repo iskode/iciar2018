{
 "cells": [
  {
   "cell_type": "code",
   "execution_count": 1,
   "metadata": {},
   "outputs": [],
   "source": [
    "%reload_ext autoreload\n",
    "%autoreload 2\n",
    "%matplotlib inline"
   ]
  },
  {
   "cell_type": "code",
   "execution_count": 2,
   "metadata": {},
   "outputs": [],
   "source": [
    "from fastai.imports import *\n",
    "from fastai.dataset import *\n",
    "from fastai.dataloader import *\n",
    "from fastai.conv_learner import *\n",
    "from fastai.plots import *"
   ]
  },
  {
   "cell_type": "code",
   "execution_count": 3,
   "metadata": {},
   "outputs": [],
   "source": [
    "PATH = '/home/ubuntu/workspace/data/iciar18/full_dataset/'"
   ]
  },
  {
   "cell_type": "code",
   "execution_count": 4,
   "metadata": {},
   "outputs": [],
   "source": [
    "top_layers = [AdaptiveConcatPool2d(), Flatten(), \n",
    "            nn.BatchNorm1d(4096, eps=1e-05, momentum=0.1, affine=True), \n",
    "            nn.Dropout(p = 0.6), nn.Linear(4096,512), nn.ReLU(), \n",
    "            nn.BatchNorm1d(512, eps=1e-05, momentum=0.1, affine=True), \n",
    "            nn.Dropout(p = 0.6), \n",
    "            nn.Linear(512,4), \n",
    "            nn.LogSoftmax()]\n",
    "\n",
    "top_layers_bin = [AdaptiveConcatPool2d(), Flatten(), \n",
    "            nn.BatchNorm1d(4096, eps=1e-05, momentum=0.1, affine=True), \n",
    "            nn.Dropout(p = 0.25), nn.Linear(4096,512), nn.ReLU(), \n",
    "            nn.BatchNorm1d(512, eps=1e-05, momentum=0.1, affine=True), \n",
    "            nn.Dropout(p = 0.5), \n",
    "            nn.Linear(512,2), \n",
    "            nn.LogSoftmax()]"
   ]
  },
  {
   "cell_type": "code",
   "execution_count": 5,
   "metadata": {},
   "outputs": [],
   "source": [
    "model = nn.Sequential(*list(resnet50().children())[:-2])\n",
    "for k, l in enumerate(top_layers):\n",
    "    model.add_module(str(7+k+1), l)\n"
   ]
  },
  {
   "cell_type": "code",
   "execution_count": 6,
   "metadata": {},
   "outputs": [],
   "source": [
    "def get_data(csv_fname, arch, sz, bs, val_idxs, aug=transforms_top_down):\n",
    "    tfms = tfms_from_model(arch, sz, aug_tfms=aug, max_zoom=1.05)\n",
    "    data = ImageClassifierData.from_csv(PATH, '', f'{PATH}{csv_fname}', bs,tfms,val_idxs)\n",
    "    return data\n",
    "def get_val_idxs(n_per_class, val_pct, nclasses):\n",
    "    v_idxs = get_cv_idxs(n_per_class, val_pct=val_pct, seed=24)\n",
    "    v_next_idxs = [v_idxs + i*100 for i in range(1, nclasses)]\n",
    "    v_idxs = [v_idxs] + v_next_idxs\n",
    "    return np.concatenate(v_idxs)\n",
    "def plot_cm(classes, y, preds):\n",
    "    from sklearn.metrics import confusion_matrix\n",
    "    cm = confusion_matrix(y, preds)\n",
    "    plot_confusion_matrix(cm, classes)\n",
    "    \n",
    "def evaluate(learner, aug=False):\n",
    "    aug_logs = None\n",
    "    log_preds,y = None, None\n",
    "    if aug:\n",
    "        aug_logs,y = learner.TTA()\n",
    "        log_preds = np.mean(aug_logs, axis=0)\n",
    "    else: \n",
    "        log_preds,y = learner.predict_with_targs()\n",
    "    print(accuracy(log_preds,y))\n",
    "    if aug:\n",
    "        for l in aug_logs:\n",
    "            print(accuracy(l,y))\n",
    "    else:\n",
    "        aug_logs = log_preds\n",
    "    preds = np.argmax(log_preds, axis=1)\n",
    "    plot_cm(learner.data.classes, y, preds)\n",
    "    return aug_logs, y\n",
    "\n",
    "def comb_strategy(aug_logs):\n",
    "    return np.mean(aug_logs, axis=0)"
   ]
  },
  {
   "cell_type": "markdown",
   "metadata": {},
   "source": [
    "# Evaluate models combination"
   ]
  },
  {
   "cell_type": "code",
   "execution_count": null,
   "metadata": {},
   "outputs": [],
   "source": []
  },
  {
   "cell_type": "code",
   "execution_count": 8,
   "metadata": {},
   "outputs": [],
   "source": [
    "def get_crossv_idxs(cv, nclasses):\n",
    "    cv = np.array(cv)\n",
    "    v_next_idxs = [cv + i*100 for i in range(1, nclasses)]\n",
    "    v_idxs = [cv] + v_next_idxs\n",
    "    return np.concatenate(v_idxs)\n",
    "crossvalids = np.load('crossvalids.txt.npy')\n",
    "cross_idx = crossvalids[0]"
   ]
  },
  {
   "cell_type": "code",
   "execution_count": 9,
   "metadata": {},
   "outputs": [],
   "source": [
    "model_carci = nn.Sequential(*list(resnet50().children())[:-2])\n",
    "model_norbe = nn.Sequential(*list(resnet50().children())[:-2])\n",
    "model_invis = nn.Sequential(*list(resnet50().children())[:-2])\n",
    "for k, l in enumerate(top_layers_bin):\n",
    "    model_carci.add_module(str(7+k+1), l)\n",
    "    model_norbe.add_module(str(7+k+1), l)\n",
    "    model_invis.add_module(str(7+k+1), l)"
   ]
  },
  {
   "cell_type": "code",
   "execution_count": 50,
   "metadata": {},
   "outputs": [],
   "source": [
    "arch=resnet50\n",
    "bs=10\n",
    "sz=299\n",
    "aug = [RandomRotate(10), RandomDihedral(), RandomFlip()]\n",
    "val_idxs = get_crossv_idxs(cross_idx, 4)\n",
    "data = get_data('train_carci.csv', model_carci, sz, bs, val_idxs, aug=aug)\n",
    "learner_carci = ConvLearner.from_model_data(model_carci, data)\n",
    "learner_carci.load('bin_carci_bs10_98')"
   ]
  },
  {
   "cell_type": "code",
   "execution_count": 67,
   "metadata": {},
   "outputs": [],
   "source": [
    "def predict_aug(learner):\n",
    "    pred = learner.TTA()\n",
    "    aug_logs,y = learner.TTA()\n",
    "    log_preds = np.mean(aug_logs, axis=0)\n",
    "    return log_preds, y\n",
    "\n",
    "def predict_simply(learner):\n",
    "    return learner.predict_with_targs()\n",
    "\n",
    "def inference_idx(learner, infer, mask=None):\n",
    "    lp, y = infer(learner)\n",
    "    preds = np.argmax(lp, axis=1)\n",
    "    c1_idx = np.where(preds[mask]==0)\n",
    "    c2_idx = np.where(preds[mask]==1)\n",
    "    if len(c1_idx) == 1:\n",
    "        c1_idx, c2_idx =c1_idx[0], c2_idx[0]\n",
    "    return c1_idx, c2_idx\n",
    "\n",
    "    \n",
    "def combineResults(learners, data_multi, aug=False):\n",
    "    learner_carci, learner_invis, learner_norbe = learners\n",
    "    infer = predict_aug if aug else predict_simply\n",
    "    \n",
    "    lp_carci, y_carci = infer(learner_carci)\n",
    "    preds_carci = np.argmax(lp_carci, axis=1)\n",
    "    carci_idx, = np.where(preds_carci==0)\n",
    "    ncarci_idx, = np.where(preds_carci==1)\n",
    "    \n",
    "    lp_invis, y_inv = infer(learner_invis)\n",
    "    pred_invis = np.argmax(lp_invis, axis=1)\n",
    "    insitu_idx, = np.where(pred_invis[carci_idx]==0)\n",
    "    invasive_idx, = np.where(pred_invis[carci_idx]==1)\n",
    "    \n",
    "    lp_norbe, y_norbe = infer(learner_norbe)\n",
    "    pred_norbe = np.argmax(lp_norbe, axis=1)\n",
    "    benign_idx, = np.where(pred_norbe[ncarci_idx]==0)\n",
    "    normal_idx, = np.where(pred_norbe[ncarci_idx]==1)\n",
    "    \n",
    "    preds = pred_norbe\n",
    "    preds[ncarci_idx[normal_idx]] = 3\n",
    "    preds[ncarci_idx[benign_idx]] = 0\n",
    "    preds[carci_idx[invasive_idx]] = 2\n",
    "    preds[carci_idx[insitu_idx]] = 1\n",
    "    \n",
    "    return preds, y_norbe"
   ]
  },
  {
   "cell_type": "code",
   "execution_count": 68,
   "metadata": {},
   "outputs": [
    {
     "name": "stdout",
     "output_type": "stream",
     "text": [
      "[[10  1  1 13]\n",
      " [ 0 10 15  0]\n",
      " [ 0 25  0  0]\n",
      " [20  0  0  5]]\n"
     ]
    },
    {
     "data": {
      "text/plain": [
       "0.25"
      ]
     },
     "execution_count": 68,
     "metadata": {},
     "output_type": "execute_result"
    },
    {
     "data": {
      "image/png": "[encoded data removed]",
      "text/plain": [
       "<matplotlib.figure.Figure at 0x7f6bef61a7b8>"
      ]
     },
     "metadata": {},
     "output_type": "display_data"
    }
   ],
   "source": [
    "data = get_data('train_multi.csv', model_invis, sz, bs, val_idxs, aug=aug)\n",
    "learner_invis = ConvLearner.from_model_data(model_invis, data)\n",
    "learner_norbe = ConvLearner.from_model_data(model_norbe, data)\n",
    "learners = (learner_carci, learner_invis, learner_norbe)\n",
    "preds, y = combineResults(learners, data)\n",
    "plot_cm(data.classes, y, preds)\n",
    "(preds==y).mean()"
   ]
  },
  {
   "cell_type": "code",
   "execution_count": 51,
   "metadata": {},
   "outputs": [],
   "source": [
    "lp_carci, y_carci = learner_carci.predict_with_targs()"
   ]
  },
  {
   "cell_type": "code",
   "execution_count": 53,
   "metadata": {},
   "outputs": [],
   "source": [
    "if len(lp_carci.shape)>2:\n",
    "    lp_carci = comb_strategy(lp_carci)\n",
    "\n",
    "preds_carci = np.argmax(lp_carci, axis=1)\n",
    "carci_idx, = np.where(preds_carci==0)\n",
    "ncarci_idx, = np.where(preds_carci==1)"
   ]
  },
  {
   "cell_type": "code",
   "execution_count": 48,
   "metadata": {},
   "outputs": [
    {
     "data": {
      "text/plain": [
       "array(['b041.jpg', 'b062.jpg', 'is014.jpg', 'is015.jpg', 'is021.jpg', 'is025.jpg', 'is027.jpg', 'is030.jpg',\n",
       "       'is032.jpg', 'is038.jpg', 'is041.jpg', 'is049.jpg', 'is051.jpg', 'is055.jpg', 'is058.jpg', 'is059.jpg',\n",
       "       'is062.jpg', 'is068.jpg', 'is072.jpg', 'is076.jpg', 'is077.jpg', 'is081.jpg', 'is085.jpg', 'is087.jpg',\n",
       "       'is089.jpg', 'is091.jpg', 'is095.jpg', 'iv014.jpg', 'iv015.jpg', 'iv021.jpg', 'iv025.jpg', 'iv027.jpg',\n",
       "       'iv030.jpg', 'iv032.jpg', 'iv038.jpg', 'iv041.jpg', 'iv049.jpg', 'iv051.jpg', 'iv055.jpg', 'iv058.jpg',\n",
       "       'iv059.jpg', 'iv062.jpg', 'iv068.jpg', 'iv072.jpg', 'iv076.jpg', 'iv077.jpg', 'iv081.jpg', 'iv085.jpg',\n",
       "       'iv087.jpg', 'iv089.jpg', 'iv091.jpg', 'iv095.jpg'],\n",
       "      dtype='<U9')"
      ]
     },
     "execution_count": 48,
     "metadata": {},
     "output_type": "execute_result"
    }
   ],
   "source": [
    "data.val_ds.fnames[carci_idx]"
   ]
  },
  {
   "cell_type": "code",
   "execution_count": 53,
   "metadata": {},
   "outputs": [
    {
     "data": {
      "text/plain": [
       "array(['is014.jpg', 'is015.jpg', 'is021.jpg', 'is025.jpg', 'is027.jpg', 'is030.jpg', 'is032.jpg', 'is038.jpg',\n",
       "       'is041.jpg', 'is049.jpg', 'is051.jpg', 'is055.jpg', 'is058.jpg', 'is059.jpg', 'is062.jpg', 'is068.jpg',\n",
       "       'is072.jpg', 'is076.jpg', 'is077.jpg', 'is081.jpg', 'is085.jpg', 'is087.jpg', 'is089.jpg', 'is091.jpg',\n",
       "       'is095.jpg', 'iv014.jpg', 'iv015.jpg', 'iv021.jpg', 'iv025.jpg', 'iv027.jpg', 'iv030.jpg', 'iv032.jpg',\n",
       "       'iv038.jpg', 'iv041.jpg', 'iv049.jpg', 'iv051.jpg', 'iv055.jpg', 'iv058.jpg', 'iv059.jpg', 'iv062.jpg',\n",
       "       'iv068.jpg', 'iv072.jpg', 'iv076.jpg', 'iv077.jpg', 'iv081.jpg', 'iv085.jpg', 'iv087.jpg', 'iv089.jpg',\n",
       "       'iv091.jpg', 'iv095.jpg'],\n",
       "      dtype='<U9')"
      ]
     },
     "execution_count": 53,
     "metadata": {},
     "output_type": "execute_result"
    }
   ],
   "source": [
    "data_carci = get_data('train_invis.csv', model_invis, sz, bs, get_crossv_idxs(cross_idx, 2), aug=aug)\n",
    "data_carci.val_ds.fnames"
   ]
  },
  {
   "cell_type": "code",
   "execution_count": 15,
   "metadata": {},
   "outputs": [],
   "source": [
    "data = get_data('train_multi.csv', model_invis, sz, bs, val_idxs, aug=aug)\n",
    "learner_invis = ConvLearner.from_model_data(model_invis, data)\n",
    "# learner.load('bin_carci_bs10_98')\n",
    "learner_invis.load('bin_invis_bs10_96')\n",
    "# learner_invis.data.classes = ['InSitu', 'Invasive']\n",
    "lp_invis, y_inv = learner_invis.predict_with_targs()\n",
    "# accuracy(lp_invis,y_inv)\n",
    "pred_invis = np.argmax(lp_invis, axis=1)"
   ]
  },
  {
   "cell_type": "code",
   "execution_count": 38,
   "metadata": {},
   "outputs": [
    {
     "data": {
      "text/plain": [
       "array([0, 1])"
      ]
     },
     "execution_count": 38,
     "metadata": {},
     "output_type": "execute_result"
    }
   ],
   "source": [
    "np.clip([0,1], 0, 3)"
   ]
  },
  {
   "cell_type": "code",
   "execution_count": 16,
   "metadata": {},
   "outputs": [
    {
     "name": "stdout",
     "output_type": "stream",
     "text": [
      "[[ 0  1  1]\n",
      " [ 0 24  1]\n",
      " [ 0  1 24]]\n"
     ]
    },
    {
     "data": {
      "image/png": "[encoded data removed]",
      "text/plain": [
       "<matplotlib.figure.Figure at 0x7f6bed0b6d68>"
      ]
     },
     "metadata": {},
     "output_type": "display_data"
    }
   ],
   "source": [
    "np.unique(y_inv)\n",
    "# plot_cm(data.classes, y_inv, pred_invis+1)\n",
    "plot_cm(data.classes, y_inv[carci_idx], pred_invis[carci_idx]+1)\n",
    "insitu_idx, = np.where(pred_invis[carci_idx]==0)\n",
    "invasive_idx, = np.where(pred_invis[carci_idx]==1)"
   ]
  },
  {
   "cell_type": "code",
   "execution_count": 44,
   "metadata": {},
   "outputs": [],
   "source": [
    "learner_norbe = ConvLearner.from_model_data(model_norbe, data)\n",
    "# learner.load('bin_carci_bs10_98')\n",
    "learner_norbe.load('bin_norbe_bs10_100')\n",
    "# learner_invis.data.classes = ['InSitu', 'Invasive']\n",
    "lp_norbe, y_norbe = learner_norbe.predict_with_targs()\n",
    "pred_norbe = np.argmax(lp_norbe, axis=1)"
   ]
  },
  {
   "cell_type": "code",
   "execution_count": 45,
   "metadata": {},
   "outputs": [
    {
     "name": "stdout",
     "output_type": "stream",
     "text": [
      "[0 1] [0 3]\n",
      "[[23  0]\n",
      " [ 0 25]]\n"
     ]
    },
    {
     "data": {
      "image/png": "[encoded data removed]",
      "text/plain": [
       "<matplotlib.figure.Figure at 0x7f6bed511a20>"
      ]
     },
     "metadata": {},
     "output_type": "display_data"
    }
   ],
   "source": [
    "pn = pred_norbe[ncarci_idx]\n",
    "# pn[pn==1] = 3\n",
    "print(np.unique(pn), np.unique(y_norbe[ncarci_idx]))\n",
    "plot_cm([\"benign\", \"normal\"], np.clip(y_norbe[ncarci_idx], 0, 1), pn)\n",
    "benign_idx, = np.where(pred_norbe[ncarci_idx]==0)\n",
    "normal_idx, = np.where(pred_norbe[ncarci_idx]==1)"
   ]
  },
  {
   "cell_type": "code",
   "execution_count": 47,
   "metadata": {},
   "outputs": [
    {
     "name": "stdout",
     "output_type": "stream",
     "text": [
      "[[23  1  1  0]\n",
      " [ 0 24  1  0]\n",
      " [ 0  1 24  0]\n",
      " [ 0  0  0 25]]\n"
     ]
    },
    {
     "data": {
      "text/plain": [
       "(0.95999999999999996, 0.95999999999999996)"
      ]
     },
     "execution_count": 47,
     "metadata": {},
     "output_type": "execute_result"
    },
    {
     "data": {
      "image/png": "[encoded data removed]",
      "text/plain": [
       "<matplotlib.figure.Figure at 0x7f6bef2ea6d8>"
      ]
     },
     "metadata": {},
     "output_type": "display_data"
    }
   ],
   "source": [
    "preds = pred_norbe\n",
    "preds[ncarci_idx[normal_idx]] = 3\n",
    "preds[ncarci_idx[benign_idx]] = 0\n",
    "preds[carci_idx[invasive_idx]] = 2\n",
    "preds[carci_idx[insitu_idx]] = 1\n",
    "plot_cm(data.classes, y_norbe, preds)\n",
    "(preds==y_norbe).mean(), (preds==y_inv).mean()"
   ]
  },
  {
   "cell_type": "code",
   "execution_count": 49,
   "metadata": {},
   "outputs": [
    {
     "name": "stdout",
     "output_type": "stream",
     "text": [
      "[[25  0  0  0]\n",
      " [ 0 23  1  1]\n",
      " [ 0  0 24  1]\n",
      " [ 0  0  1 24]]\n"
     ]
    },
    {
     "data": {
      "text/plain": [
       "(0.95999999999999996, 0.01)"
      ]
     },
     "execution_count": 49,
     "metadata": {},
     "output_type": "execute_result"
    },
    {
     "data": {
      "image/png": "[encoded data removed]",
      "text/plain": [
       "<matplotlib.figure.Figure at 0x7f6bef641320>"
      ]
     },
     "metadata": {},
     "output_type": "display_data"
    }
   ],
   "source": [
    "preds = pred_norbe\n",
    "preds[ncarci_idx[normal_idx]] = 0\n",
    "preds[ncarci_idx[benign_idx]] = 1\n",
    "preds[carci_idx[invasive_idx]] = 3\n",
    "preds[carci_idx[insitu_idx]] = 2\n",
    "nor, be = y_norbe==3, y_norbe==0\n",
    "iv, ins = y_norbe==2, y_norbe==1\n",
    "y_norbe[nor] = 0\n",
    "y_norbe[be] = 1\n",
    "y_norbe[ins] = 2\n",
    "y_norbe[iv] = 3\n",
    "\n",
    "plot_cm([\"Normal\", \"Benign\", \"InSitu\",\"Invasive\"], y_norbe, preds)\n",
    "(preds==y_norbe).mean(), (preds==y_inv).mean()"
   ]
  },
  {
   "cell_type": "markdown",
   "metadata": {},
   "source": [
    "# Combine the 3 models"
   ]
  },
  {
   "cell_type": "code",
   "execution_count": 29,
   "metadata": {},
   "outputs": [],
   "source": [
    "model_carci = nn.Sequential(*list(resnet50().children())[:-2])\n",
    "model_norbe = nn.Sequential(*list(resnet50().children())[:-2])\n",
    "model_invis = nn.Sequential(*list(resnet50().children())[:-2])\n",
    "for k, l in enumerate(top_layers_bin):\n",
    "    model_carci.add_module(str(7+k+1), l)\n",
    "    model_norbe.add_module(str(7+k+1), l)\n",
    "    model_invis.add_module(str(7+k+1), l)\n",
    "    \n"
   ]
  },
  {
   "cell_type": "code",
   "execution_count": 128,
   "metadata": {},
   "outputs": [
    {
     "name": "stdout",
     "output_type": "stream",
     "text": [
      "\n"
     ]
    }
   ],
   "source": [
    "gpu_type = torch.cuda.FloatTensor\n",
    "load_model(model_bin, f'{PATH}models/bin_carci_bs10_98.h5')\n",
    "load_model(model_bin, f'{PATH}models/bin_norbe_bs10_100.h5')\n",
    "load_model(model_bin, f'{PATH}models/bin_invis_bs10_96.h5')\n",
    "model_carci.type(gpu_type)\n",
    "model_carci.eval()\n",
    "model_invis.type(gpu_type)\n",
    "model_norbe.type(gpu_type)\n",
    "model_invis.eval()\n",
    "model_norbe.eval()\n",
    "print()"
   ]
  },
  {
   "cell_type": "code",
   "execution_count": 132,
   "metadata": {},
   "outputs": [],
   "source": [
    "arch=resnet50\n",
    "sz=299\n",
    "fn = f'{PATH}Photos/Normal/n063.tif'\n",
    "trn_tfms, val_tfms = tfms_from_model(arch, sz, aug_tfms=transforms_top_down, max_zoom=1.05) # get transformations\n",
    "im = open_image(fn)\n",
    "im_val = val_tfms(im)"
   ]
  },
  {
   "cell_type": "code",
   "execution_count": 133,
   "metadata": {},
   "outputs": [
    {
     "name": "stdout",
     "output_type": "stream",
     "text": [
      "torch.Size([3, 299, 299])\n"
     ]
    }
   ],
   "source": [
    "\n",
    "\n",
    "x = torch.from_numpy(im_val).type(gpu_type)\n",
    "# x = x.permute(0,3,1,2)\n",
    "print(x.size())"
   ]
  },
  {
   "cell_type": "code",
   "execution_count": 134,
   "metadata": {},
   "outputs": [
    {
     "data": {
      "text/plain": [
       "Variable containing:\n",
       "   0.0000 -208.4799\n",
       "[torch.cuda.FloatTensor of size 1x2 (GPU 0)]"
      ]
     },
     "execution_count": 134,
     "metadata": {},
     "output_type": "execute_result"
    }
   ],
   "source": [
    "log_pred = model_norbe(Variable(x).unsqueeze(0))\n",
    "log_pred"
   ]
  },
  {
   "cell_type": "code",
   "execution_count": 135,
   "metadata": {},
   "outputs": [
    {
     "name": "stdout",
     "output_type": "stream",
     "text": [
      "3\n"
     ]
    },
    {
     "data": {
      "text/plain": [
       "'class prediction: Invasive => 3'"
      ]
     },
     "execution_count": 135,
     "metadata": {},
     "output_type": "execute_result"
    }
   ],
   "source": [
    "pred = np.argmax(log_pred.data.cpu().numpy())\n",
    "idx_class = None\n",
    "if pred == 0:\n",
    "    \n",
    "    log_pred = model_invis(Variable(x).unsqueeze(0))\n",
    "    pred = np.argmax(log_pred.data.cpu().numpy())\n",
    "    idx_class  = 2 + pred\n",
    "    print(idx_class)\n",
    "else:\n",
    "    log_pred = model_norbe(Variable(x).unsqueeze(0))\n",
    "    pred = np.argmax(log_pred.data.cpu().numpy())\n",
    "    idx_class  = 1 - pred\n",
    "    print(idx_class)\n",
    "submit_classes = ['Normal', 'Benign', 'InSitu', 'Invasive']\n",
    "f'class prediction: {submit_classes[idx_class]} => {idx_class}'"
   ]
  },
  {
   "cell_type": "markdown",
   "metadata": {
    "heading_collapsed": true
   },
   "source": [
    "# Only 1 model"
   ]
  },
  {
   "cell_type": "code",
   "execution_count": 42,
   "metadata": {
    "hidden": true
   },
   "outputs": [],
   "source": [
    "loaded_model = load_model(model, f'{PATH}models/multi_exp2_ps.6_95.h5')"
   ]
  },
  {
   "cell_type": "code",
   "execution_count": 43,
   "metadata": {
    "hidden": true
   },
   "outputs": [],
   "source": [
    "arch=resnet50\n",
    "sz=299\n",
    "fn = f'{PATH}Photos/Invasive/iv011.tif'\n",
    "trn_tfms, val_tfms = tfms_from_model(arch, sz, aug_tfms=transforms_top_down, max_zoom=1.05) # get transformations\n",
    "im = open_image(fn)\n",
    "im_val = val_tfms(im)"
   ]
  },
  {
   "cell_type": "code",
   "execution_count": 44,
   "metadata": {
    "hidden": true
   },
   "outputs": [
    {
     "name": "stdout",
     "output_type": "stream",
     "text": [
      "torch.Size([3, 299, 299])\n"
     ]
    }
   ],
   "source": [
    "model.type(torch.cuda.FloatTensor)\n",
    "model.eval()\n",
    "x = torch.from_numpy(im_val).type(torch.cuda.FloatTensor)\n",
    "# x = x.permute(0,3,1,2)\n",
    "print(x.size())"
   ]
  },
  {
   "cell_type": "code",
   "execution_count": 45,
   "metadata": {
    "hidden": true
   },
   "outputs": [
    {
     "data": {
      "text/plain": [
       "Variable containing:\n",
       "-7.1667 -4.4559 -0.0126 -8.7580\n",
       "[torch.cuda.FloatTensor of size 1x4 (GPU 0)]"
      ]
     },
     "execution_count": 45,
     "metadata": {},
     "output_type": "execute_result"
    }
   ],
   "source": [
    "log_pred = model(Variable(x).unsqueeze(0))\n",
    "log_pred"
   ]
  },
  {
   "cell_type": "code",
   "execution_count": 46,
   "metadata": {
    "hidden": true
   },
   "outputs": [
    {
     "data": {
      "text/plain": [
       "'class prediction: 3 => Invasive'"
      ]
     },
     "execution_count": 46,
     "metadata": {},
     "output_type": "execute_result"
    }
   ],
   "source": [
    "pred = np.argmax(log_pred.data.cpu().numpy())\n",
    "devt_classes = ['Benign', 'InSitu', 'Invasive', 'Normal']\n",
    "submit_classes = {'Normal':0, 'Benign':1, 'InSitu':2, 'Invasive':3}\n",
    "f'class prediction: {submit_classes[devt_classes[pred]]} => {devt_classes[pred]}'"
   ]
  }
 ],
 "metadata": {
  "kernelspec": {
   "display_name": "Python 3",
   "language": "python",
   "name": "python3"
  },
  "language_info": {
   "codemirror_mode": {
    "name": "ipython",
    "version": 3
   },
   "file_extension": ".py",
   "mimetype": "text/x-python",
   "name": "python",
   "nbconvert_exporter": "python",
   "pygments_lexer": "ipython3",
   "version": "3.6.4"
  }
 },
 "nbformat": 4,
 "nbformat_minor": 2
}
